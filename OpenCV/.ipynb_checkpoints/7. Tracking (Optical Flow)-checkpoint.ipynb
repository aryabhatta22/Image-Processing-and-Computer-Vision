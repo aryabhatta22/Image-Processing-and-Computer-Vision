{
 "cells": [
  {
   "cell_type": "code",
   "execution_count": 1,
   "metadata": {},
   "outputs": [],
   "source": [
    "import cv2\n",
    "import numpy as np"
   ]
  },
  {
   "cell_type": "code",
   "execution_count": 2,
   "metadata": {},
   "outputs": [],
   "source": [
    "#Parameters for shi-tomasi corner detection\n",
    "st_params = dict(maxCorners =30,\n",
    "                qualityLevel = 0.2,\n",
    "                minDistance = 2,\n",
    "                blockSize = 7)"
   ]
  },
  {
   "cell_type": "code",
   "execution_count": 3,
   "metadata": {},
   "outputs": [],
   "source": [
    "#Parmeters for Lucas-kande optical flow\n",
    "lk_params = dict(winSize=(15,15),\n",
    "                maxLevel =2,\n",
    "                criteria=(cv2.TERM_CRITERIA_EPS | cv2.TERM_CRITERIA_COUNT, 10, 1))"
   ]
  },
  {
   "cell_type": "code",
   "execution_count": 4,
   "metadata": {},
   "outputs": [],
   "source": [
    "#Video Capture\n",
    "cap = cv2.VideoCapture('../Videos/pedestrian.mp4')"
   ]
  },
  {
   "cell_type": "code",
   "execution_count": 5,
   "metadata": {},
   "outputs": [],
   "source": [
    "# 1. Color for optical flow\n",
    "color = (0, 255,0)   # Green\n",
    "\n",
    "# 2. Reading capture and get the first frame\n",
    "ret, first_frame = cap.read()\n",
    "\n",
    "# 3. Conveet to grayscale\n",
    "prev_gray = cv2.cvtColor(first_frame, cv2.COLOR_BGR2GRAY)\n",
    "\n",
    "# 4. Strongest corner in the first frame\n",
    "prev = cv2.goodFeaturesToTrack(prev_gray, mask=None, **st_params)\n",
    "\n",
    "# 5. Create an image with same dimensions asthe frame for later drawing purpose\n",
    "mask = np.zeros_like(first_frame)"
   ]
  },
  {
   "cell_type": "code",
   "execution_count": null,
   "metadata": {},
   "outputs": [],
   "source": []
  }
 ],
 "metadata": {
  "kernelspec": {
   "display_name": "Python 3",
   "language": "python",
   "name": "python3"
  },
  "language_info": {
   "codemirror_mode": {
    "name": "ipython",
    "version": 3
   },
   "file_extension": ".py",
   "mimetype": "text/x-python",
   "name": "python",
   "nbconvert_exporter": "python",
   "pygments_lexer": "ipython3",
   "version": "3.7.6"
  }
 },
 "nbformat": 4,
 "nbformat_minor": 4
}
