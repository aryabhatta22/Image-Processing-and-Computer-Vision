{
 "cells": [
  {
   "cell_type": "code",
   "execution_count": 30,
   "metadata": {},
   "outputs": [],
   "source": [
    "import cv2\n",
    "import numpy as np"
   ]
  },
  {
   "cell_type": "code",
   "execution_count": 31,
   "metadata": {},
   "outputs": [],
   "source": [
    "#Parameters for shi-tomasi corner detection\n",
    "st_params = dict(maxCorners =30,\n",
    "                qualityLevel = 0.2,\n",
    "                minDistance = 2,\n",
    "                blockSize = 7)"
   ]
  },
  {
   "cell_type": "code",
   "execution_count": 34,
   "metadata": {},
   "outputs": [],
   "source": [
    "#Parmeters for Lucas-kande optical flow\n",
    "lk_params = dict(winSize=(15,15),\n",
    "                maxLevel =2,\n",
    "                criteria=(cv2.TERM_CRITERIA_EPS | cv2.TERM_CRITERIA_COUNT, 10, 1))"
   ]
  },
  {
   "cell_type": "code",
   "execution_count": 35,
   "metadata": {},
   "outputs": [],
   "source": [
    "#Video Capture\n",
    "cap = cv2.VideoCapture('../Videos/pedestrian.mp4')"
   ]
  },
  {
   "cell_type": "code",
   "execution_count": 36,
   "metadata": {},
   "outputs": [],
   "source": [
    "# 1. Color for optical flow\n",
    "color = (0, 255,0)   # Green\n",
    "\n",
    "# 2. Reading capture and get the first frame\n",
    "ret, first_frame = cap.read()\n",
    "first_frame = rescale_frame(first_frame, percent=25)\n",
    "\n",
    "# 3. Conveet to grayscale\n",
    "prev_gray = cv2.cvtColor(first_frame, cv2.COLOR_BGR2GRAY)\n",
    "\n",
    "# 4. Strongest corner in the first frame\n",
    "prev = cv2.goodFeaturesToTrack(prev_gray, mask=None, **st_params)\n",
    "\n",
    "# 5. Create an image with same dimensions asthe frame for later drawing purpose\n",
    "mask = np.zeros_like(first_frame)"
   ]
  },
  {
   "cell_type": "code",
   "execution_count": 37,
   "metadata": {},
   "outputs": [],
   "source": [
    "def rescale_frame(frame, percent=75):\n",
    "    width = int(frame.shape[1] * percent/ 100)\n",
    "    height = int(frame.shape[0] * percent/ 100)\n",
    "    dim = (width, height)\n",
    "    return cv2.resize(frame, dim, interpolation =cv2.INTER_AREA)"
   ]
  },
  {
   "cell_type": "code",
   "execution_count": 38,
   "metadata": {},
   "outputs": [],
   "source": [
    "while (cap.isOpened()):\n",
    "    ret, frame = cap.read()\n",
    "    frame = rescale_frame(frame, percent=25)\n",
    "    #convert all frames to grayscale\n",
    "    gray = cv2.cvtColor(frame, cv2.COLOR_BGR2GRAY)\n",
    "    #calculate optical flow by Lucas-Kande\n",
    "    next, status, error = cv2.calcOpticalFlowPyrLK(prev_gray,gray, prev, None, **lk_params)\n",
    "    #Select good features for previous position\n",
    "    good_old = prev[status == 1]\n",
    "    # select good features for the next position\n",
    "    good_new = next[status == 1]\n",
    "    \n",
    "    #Draw optical flow track\n",
    "    for i , (new,old) in enumerate(zip(good_new, good_old)):\n",
    "        # Return coordinates for new point\n",
    "        a,b = new.ravel()\n",
    "        # Return coordinates for the old points\n",
    "        c,d = old.ravel()\n",
    "        # Draw  line b/w new and old position\n",
    "        mask = cv2.line(mask, (a,b), (c,d), color, 2)\n",
    "        # Draw filled circle\n",
    "        frame = cv2.circle(frame, (a,b), 3, color, -1)\n",
    "    \n",
    "    #Overlay optical flow on original frame\n",
    "    \n",
    "    output = cv2.add(frame, mask)\n",
    "    # Update previous frame\n",
    "    prev_gray = gray.copy()\n",
    "    \n",
    "    #Update previous good features\n",
    "    prev = good_new.reshape(-1,1,2)\n",
    "    \n",
    "    #Open new window and display the output\n",
    "    cv2.imshow(\"Optical Flow\", output)\n",
    "    if cv2.waitKey(300) & 0xFF == ord(\"q\"):\n",
    "        break\n",
    "# Realese and Destroy\n",
    "cap.release()\n",
    "cv2.destroyAllWindows()"
   ]
  },
  {
   "cell_type": "code",
   "execution_count": null,
   "metadata": {},
   "outputs": [],
   "source": []
  }
 ],
 "metadata": {
  "kernelspec": {
   "display_name": "Python 3",
   "language": "python",
   "name": "python3"
  },
  "language_info": {
   "codemirror_mode": {
    "name": "ipython",
    "version": 3
   },
   "file_extension": ".py",
   "mimetype": "text/x-python",
   "name": "python",
   "nbconvert_exporter": "python",
   "pygments_lexer": "ipython3",
   "version": "3.7.6"
  }
 },
 "nbformat": 4,
 "nbformat_minor": 4
}
